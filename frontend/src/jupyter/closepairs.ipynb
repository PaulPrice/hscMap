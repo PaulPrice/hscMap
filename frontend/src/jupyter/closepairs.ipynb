{
 "cells": [
  {
   "cell_type": "markdown",
   "metadata": {},
   "source": [
    "# cross match sample"
   ]
  },
  {
   "cell_type": "code",
   "execution_count": null,
   "metadata": {},
   "outputs": [],
   "source": [
    "import hscdata\n",
    "db = hscdata.connect('pdr1_udeep')"
   ]
  },
  {
   "cell_type": "code",
   "execution_count": null,
   "metadata": {
    "collapsed": true
   },
   "outputs": [],
   "source": [
    "import numpy\n",
    "from scipy.spatial import cKDTree as KDTree\n",
    "\n",
    "def cat2xyz(cat):\n",
    "    a = numpy.deg2rad(cat.ra)\n",
    "    d = numpy.deg2rad(cat.dec)\n",
    "    return numpy.array([\n",
    "        numpy.cos(d) * numpy.cos(a),\n",
    "        numpy.cos(d) * numpy.sin(a),\n",
    "        numpy.sin(d),\n",
    "    ]).T\n",
    "\n",
    "def asec2rad(asec):\n",
    "    return asec / 3600. / 180. * numpy.pi"
   ]
  },
  {
   "cell_type": "markdown",
   "metadata": {},
   "source": [
    "https://hsc-release.mtk.nao.ac.jp/doc/index.php/data/"
   ]
  },
  {
   "cell_type": "code",
   "execution_count": null,
   "metadata": {},
   "outputs": [],
   "source": [
    "cat = db.forced(where='''\n",
    "    tract = 9813\n",
    "    AND patch = 303 -- 3,3 (000 -> 808)\n",
    "    AND boxSearch(coord, 150, 150.4, 2, 2.4)\n",
    "    AND detect_is_primary\n",
    "        AND NOT gcentroid_sdss_flags\n",
    "        AND NOT rcentroid_sdss_flags\n",
    "        AND NOT icentroid_sdss_flags\n",
    "        AND NOT zcentroid_sdss_flags\n",
    "        AND NOT ycentroid_sdss_flags\n",
    "        AND NOT gflags_pixel_edge\n",
    "        AND NOT rflags_pixel_edge\n",
    "        AND NOT iflags_pixel_edge\n",
    "        AND NOT zflags_pixel_edge\n",
    "        AND NOT yflags_pixel_edge\n",
    "        AND NOT gflags_pixel_interpolated_center\n",
    "        AND NOT rflags_pixel_interpolated_center\n",
    "        AND NOT iflags_pixel_interpolated_center\n",
    "        AND NOT zflags_pixel_interpolated_center\n",
    "        AND NOT yflags_pixel_interpolated_center\n",
    "        AND NOT gflags_pixel_saturated_center\n",
    "        AND NOT rflags_pixel_saturated_center\n",
    "        AND NOT iflags_pixel_saturated_center\n",
    "        AND NOT zflags_pixel_saturated_center\n",
    "        AND NOT yflags_pixel_saturated_center\n",
    "        AND NOT gflags_pixel_cr_center\n",
    "        AND NOT rflags_pixel_cr_center\n",
    "        AND NOT iflags_pixel_cr_center\n",
    "        AND NOT zflags_pixel_cr_center\n",
    "        AND NOT yflags_pixel_cr_center\n",
    "        AND NOT gflags_pixel_bad\n",
    "        AND NOT rflags_pixel_bad\n",
    "        AND NOT iflags_pixel_bad\n",
    "        AND NOT zflags_pixel_bad\n",
    "        AND NOT yflags_pixel_bad\n",
    "        AND NOT gcmodel_flux_flags\n",
    "        AND NOT rcmodel_flux_flags\n",
    "        AND NOT icmodel_flux_flags\n",
    "        AND NOT zcmodel_flux_flags\n",
    "        AND NOT ycmodel_flux_flags\n",
    "''')"
   ]
  },
  {
   "cell_type": "code",
   "execution_count": null,
   "metadata": {},
   "outputs": [],
   "source": [
    "cat.count()"
   ]
  },
  {
   "cell_type": "code",
   "execution_count": null,
   "metadata": {},
   "outputs": [],
   "source": [
    "import hscMap\n",
    "w = hscMap.Window(True)"
   ]
  },
  {
   "cell_type": "code",
   "execution_count": null,
   "metadata": {},
   "outputs": [],
   "source": [
    "xyz = cat2xyz(cat)\n",
    "\n",
    "index = KDTree(xyz)\n",
    "\n",
    "pairs = index.query_pairs(asec2rad(2))\n",
    "\n",
    "print len(pairs)"
   ]
  },
  {
   "cell_type": "code",
   "execution_count": null,
   "metadata": {},
   "outputs": [],
   "source": [
    "w.jumpTo({'a': numpy.deg2rad(cat.ra[0]), 'd': numpy.deg2rad(cat.dec[0])})\n",
    "\n",
    "w.clearMarkers()\n",
    "# w.addMarker([(cat.ra[i], cat.dec[i]) for i in range(cat.count())]).color = [0, 0.25, 1, 0.5]\n",
    "w.addMarker([(cat.ra[i], cat.dec[i]) for i, j in pairs])\n",
    "w.addMarker([(cat.ra[j], cat.dec[j]) for i, j in pairs]).color = [1, 0, 0, 0.5]"
   ]
  },
  {
   "cell_type": "code",
   "execution_count": null,
   "metadata": {
    "collapsed": true
   },
   "outputs": [],
   "source": [
    "table = [[cat.ra[i], cat.dec[i], i, j] for i, j in pairs]\n",
    "w.focusTable(['ra', 'dec', 'i', 'j'], table[:100], postageStamp=True)"
   ]
  },
  {
   "cell_type": "code",
   "execution_count": null,
   "metadata": {
    "collapsed": true
   },
   "outputs": [],
   "source": [
    "def cat2color(cat):\n",
    "    return numpy.array([\n",
    "        cat.gmag_kron - cat.imag_kron,\n",
    "        cat.rmag_kron - cat.imag_kron,\n",
    "    ]).T"
   ]
  },
  {
   "cell_type": "code",
   "execution_count": null,
   "metadata": {
    "collapsed": true
   },
   "outputs": [],
   "source": [
    "xyz = cat2xyz(cat)\n",
    "color = cat2color(cat)"
   ]
  },
  {
   "cell_type": "code",
   "execution_count": null,
   "metadata": {},
   "outputs": [],
   "source": [
    "xyz.shape"
   ]
  },
  {
   "cell_type": "code",
   "execution_count": null,
   "metadata": {
    "collapsed": true
   },
   "outputs": [],
   "source": [
    "feature = numpy.hstack((xyz / asec2rad(3), color / 0.05))"
   ]
  },
  {
   "cell_type": "code",
   "execution_count": null,
   "metadata": {
    "collapsed": true
   },
   "outputs": [],
   "source": [
    "index = KDTree(feature)"
   ]
  },
  {
   "cell_type": "code",
   "execution_count": null,
   "metadata": {
    "collapsed": true
   },
   "outputs": [],
   "source": [
    "pairs = index.query_pairs(1)\n",
    "print len(pairs)"
   ]
  },
  {
   "cell_type": "code",
   "execution_count": null,
   "metadata": {},
   "outputs": [],
   "source": [
    "pairs = [\n",
    "    (i, j) for i, j in\n",
    "    pairs if abs(cat.imag_kron[i] - cat.imag_kron[j])<0.5]\n",
    "\n",
    "len(pairs)"
   ]
  },
  {
   "cell_type": "code",
   "execution_count": null,
   "metadata": {},
   "outputs": [],
   "source": [
    "len(pairs)"
   ]
  },
  {
   "cell_type": "code",
   "execution_count": null,
   "metadata": {},
   "outputs": [],
   "source": [
    "w.clearMarkers()\n",
    "# w.addMarker([(cat.ra[i], cat.dec[i]) for i in range(cat.count())]).color = [0, 0.25, 1, 0.01]\n",
    "w.addMarker([(cat.ra[i], cat.dec[i]) for i, j in pairs])\n",
    "w.addMarker([(cat.ra[j], cat.dec[j]) for i, j in pairs]).color = [1, 0, 0, 0.5]"
   ]
  },
  {
   "cell_type": "code",
   "execution_count": null,
   "metadata": {},
   "outputs": [],
   "source": [
    "w.filters = ['HSC-Z', 'HSC-R', 'HSC-G']"
   ]
  },
  {
   "cell_type": "code",
   "execution_count": null,
   "metadata": {
    "scrolled": false
   },
   "outputs": [],
   "source": [
    "table = [[cat.ra[i], cat.dec[i], i, j, cat.imag_kron[i], cat.imag_kron[j]] for i, j in pairs]\n",
    "w.focusTable(['ra', 'dec', 'i', 'j', 'imag_kron(green)', 'imag_kron(red)'], table, postageStamp=False)"
   ]
  },
  {
   "cell_type": "code",
   "execution_count": null,
   "metadata": {
    "collapsed": true
   },
   "outputs": [],
   "source": []
  }
 ],
 "metadata": {
  "kernelspec": {
   "display_name": "Python 2",
   "language": "python",
   "name": "python2"
  },
  "language_info": {
   "codemirror_mode": {
    "name": "ipython",
    "version": 2
   },
   "file_extension": ".py",
   "mimetype": "text/x-python",
   "name": "python",
   "nbconvert_exporter": "python",
   "pygments_lexer": "ipython2",
   "version": "2.7.13"
  }
 },
 "nbformat": 4,
 "nbformat_minor": 2
}
