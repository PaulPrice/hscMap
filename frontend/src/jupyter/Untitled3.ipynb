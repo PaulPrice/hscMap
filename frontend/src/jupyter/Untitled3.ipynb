{
 "cells": [
  {
   "cell_type": "markdown",
   "metadata": {},
   "source": [
    "* hit shit + enter on a cell to execute code of the cell"
   ]
  },
  {
   "cell_type": "code",
   "execution_count": 1,
   "metadata": {},
   "outputs": [
    {
     "data": {
      "application/javascript": [
       "\n",
       "        (function() {\n",
       "            var code = function() { \n",
       "            var dialog = require('base/js/dialog');\n",
       "            dialog.modal({\n",
       "                title: 'Click \"OK\"',\n",
       "                body: '(This dialog is needed for bypassing pop-up window blocker)',\n",
       "                buttons: {OK: {click: function() {\n",
       "                    hscMap.open(\"hscmap_1503889898_1\", \"https://hscdata.mtk.nao.ac.jp/hsc_ssp/dr2/s17a/hscMap3/jupyter.html\", false)\n",
       "                }}},\n",
       "                default_button: 'OK',\n",
       "                keyboard_manager: IPython.keyboard_manager\n",
       "            })\n",
       "             };\n",
       "            if (window.hscMap)\n",
       "                code();\n",
       "            else {\n",
       "                if (! window.hscMapLoaded) {\n",
       "                    window.hscMapLoaded = [];\n",
       "                    (function() {\n",
       "                        var script = document.createElement('script');\n",
       "                        script.src = \"https://hscdata.mtk.nao.ac.jp/hsc_ssp/dr2/s17a/hscMap3/jupyter-client.js\";\n",
       "                        document.body.appendChild(script);\n",
       "                        var interval = 50;\n",
       "                        function retry() {\n",
       "                            if (window.hscMap) {\n",
       "                                var cbs = window.hscMapLoaded;\n",
       "                                for (var i = 0;  i < cbs.length;  ++i)\n",
       "                                    cbs[i]();\n",
       "                                delete window.hscMapLoaded;\n",
       "                            }\n",
       "                            else {\n",
       "                                setTimeout(retry, interval)\n",
       "                            }\n",
       "                        }\n",
       "                        retry()\n",
       "                    })();\n",
       "                }\n",
       "                window.hscMapLoaded.push(code);\n",
       "            }\n",
       "        })()\n",
       "    "
      ],
      "text/plain": [
       "<IPython.core.display.Javascript object>"
      ]
     },
     "metadata": {},
     "output_type": "display_data"
    }
   ],
   "source": [
    "import hscMap\n",
    "w = hscMap.Window()"
   ]
  },
  {
   "cell_type": "markdown",
   "metadata": {},
   "source": [
    "* setting field of view"
   ]
  },
  {
   "cell_type": "code",
   "execution_count": null,
   "metadata": {
    "collapsed": true
   },
   "outputs": [],
   "source": [
    "import numpy\n",
    "from numpy import deg2rad\n",
    "\n",
    "m31 = (10.664397334834142, 41.2607989087191)\n",
    "w.jumpTo({'a': deg2rad(m31[0]), 'd': deg2rad(m31[1]), 'fovy': deg2rad(2)})"
   ]
  },
  {
   "cell_type": "code",
   "execution_count": null,
   "metadata": {
    "collapsed": true
   },
   "outputs": [],
   "source": []
  }
 ],
 "metadata": {
  "kernelspec": {
   "display_name": "Python 2",
   "language": "python",
   "name": "python2"
  },
  "language_info": {
   "codemirror_mode": {
    "name": "ipython",
    "version": 2
   },
   "file_extension": ".py",
   "mimetype": "text/x-python",
   "name": "python",
   "nbconvert_exporter": "python",
   "pygments_lexer": "ipython2",
   "version": "2.7.13"
  }
 },
 "nbformat": 4,
 "nbformat_minor": 2
}
