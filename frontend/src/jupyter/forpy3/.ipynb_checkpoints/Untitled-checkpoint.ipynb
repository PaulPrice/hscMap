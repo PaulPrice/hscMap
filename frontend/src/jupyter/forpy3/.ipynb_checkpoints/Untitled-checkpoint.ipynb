{
 "cells": [
  {
   "cell_type": "code",
   "execution_count": null,
   "metadata": {
    "collapsed": true
   },
   "outputs": [],
   "source": [
    "import hscMap"
   ]
  },
  {
   "cell_type": "code",
   "execution_count": null,
   "metadata": {},
   "outputs": [],
   "source": [
    "w = hscMap.Window()"
   ]
  },
  {
   "cell_type": "code",
   "execution_count": null,
   "metadata": {
    "collapsed": true
   },
   "outputs": [],
   "source": [
    "import numpy\n",
    "\n",
    "camira = numpy.loadtxt('/Users/michitaro/Desktop/hsc_camira_s16a_v2.txt')"
   ]
  },
  {
   "cell_type": "code",
   "execution_count": null,
   "metadata": {},
   "outputs": [],
   "source": [
    "camira"
   ]
  },
  {
   "cell_type": "code",
   "execution_count": null,
   "metadata": {
    "collapsed": true
   },
   "outputs": [],
   "source": [
    "coords = camira[:, 1:3]"
   ]
  },
  {
   "cell_type": "code",
   "execution_count": null,
   "metadata": {
    "scrolled": false
   },
   "outputs": [],
   "source": [
    "w.focusTable(['ra', 'dec'], coords[:10], postageStamp=True)"
   ]
  },
  {
   "cell_type": "code",
   "execution_count": null,
   "metadata": {
    "collapsed": true
   },
   "outputs": [],
   "source": [
    "import numpy\n",
    "from numpy import deg2rad\n",
    "\n",
    "m31 = (10.664397334834142, 41.2607989087191)\n",
    "w.jumpTo({'a': deg2rad(m31[0]), 'd': deg2rad(m31[1]), 'fovy': deg2rad(2)})"
   ]
  },
  {
   "cell_type": "code",
   "execution_count": null,
   "metadata": {},
   "outputs": [],
   "source": [
    "import astropy.io.fits as afits\n",
    "import numpy\n",
    "\n",
    "w.view = {'a': numpy.deg2rad(215.08), 'd': numpy.deg2rad(0.964)}\n",
    "\n",
    "with afits.open('../virgo-small.fits') as hdul:\n",
    "    contour = w.addContour(hdul[1], levels=range(10))"
   ]
  },
  {
   "cell_type": "code",
   "execution_count": null,
   "metadata": {
    "collapsed": true
   },
   "outputs": [],
   "source": [
    "import specDemo "
   ]
  },
  {
   "cell_type": "code",
   "execution_count": null,
   "metadata": {},
   "outputs": [],
   "source": [
    "selected = set()\n",
    "def onClick(index):\n",
    "    if index in selected:\n",
    "        selected.remove(index)\n",
    "    else:\n",
    "        selected.add(index)\n",
    "    redMarker.coords = [specDemo.coords[i] for i in selected]\n",
    "    \n",
    "greenMarker = w.addMarker(specDemo.coords, onClick)\n",
    "redMarker = w.addMarker([])\n",
    "redMarker.color = [1, 0, 0, 1]"
   ]
  },
  {
   "cell_type": "code",
   "execution_count": null,
   "metadata": {},
   "outputs": [],
   "source": [
    "import numpy\n",
    "\n",
    "h = []\n",
    "def updateSpectrumViewer(index):\n",
    "    h.append(index)\n",
    "    spec = specDemo.fetchData(index)\n",
    "    if spec:\n",
    "        x = numpy.power(10, spec['loglam'])\n",
    "        y = spec['flux']\n",
    "        hscMap.quickPlot(numpy.array([x, y]).T)\n",
    "\n",
    "w.focusTable(['ra', 'dec'], specDemo.coords, onHover=updateSpectrumViewer)\n",
    "\n",
    "w.clearMarkers()\n",
    "w.addMarker(specDemo.coords, onClick=updateSpectrumViewer)"
   ]
  },
  {
   "cell_type": "code",
   "execution_count": null,
   "metadata": {
    "collapsed": true
   },
   "outputs": [],
   "source": []
  }
 ],
 "metadata": {
  "kernelspec": {
   "display_name": "Python 3",
   "language": "python",
   "name": "python3"
  },
  "language_info": {
   "codemirror_mode": {
    "name": "ipython",
    "version": 3
   },
   "file_extension": ".py",
   "mimetype": "text/x-python",
   "name": "python",
   "nbconvert_exporter": "python",
   "pygments_lexer": "ipython3",
   "version": "3.6.1"
  }
 },
 "nbformat": 4,
 "nbformat_minor": 2
}
