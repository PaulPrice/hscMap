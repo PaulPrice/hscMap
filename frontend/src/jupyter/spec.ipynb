{
 "cells": [
  {
   "cell_type": "code",
   "execution_count": null,
   "metadata": {
    "scrolled": false
   },
   "outputs": [],
   "source": [
    "import numpy\n",
    "import specDemo\n",
    "import hscMap\n",
    "w = hscMap.Window()\n",
    "\n",
    "w.focusTable(['ra', 'dec'], specDemo.coords,\n",
    "             onHover=specDemo.updateSpectrumViewer,\n",
    "             postageStamp=True, size=64, fov=20)\n",
    "\n",
    "w.clearMarkers()\n",
    "w.addMarker(specDemo.coords, onClick=updateSpectrumViewer)"
   ]
  },
  {
   "cell_type": "code",
   "execution_count": null,
   "metadata": {
    "collapsed": true
   },
   "outputs": [],
   "source": []
  }
 ],
 "metadata": {
  "kernelspec": {
   "display_name": "Python 2",
   "language": "python",
   "name": "python2"
  },
  "language_info": {
   "codemirror_mode": {
    "name": "ipython",
    "version": 2
   },
   "file_extension": ".py",
   "mimetype": "text/x-python",
   "name": "python",
   "nbconvert_exporter": "python",
   "pygments_lexer": "ipython2",
   "version": "2.7.13"
  }
 },
 "nbformat": 4,
 "nbformat_minor": 2
}
