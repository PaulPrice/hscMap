{
 "cells": [
  {
   "cell_type": "code",
   "execution_count": null,
   "metadata": {
    "collapsed": true
   },
   "outputs": [],
   "source": [
    "import hscdata"
   ]
  },
  {
   "cell_type": "code",
   "execution_count": null,
   "metadata": {
    "collapsed": true
   },
   "outputs": [],
   "source": [
    "db = hscdata.connect('pdr1_udeep')"
   ]
  },
  {
   "cell_type": "code",
   "execution_count": null,
   "metadata": {
    "collapsed": true
   },
   "outputs": [],
   "source": [
    "cat = db.forced(where='coneSearch(coord, 150, 2, 600) AND detect_is_primary AND icmodel_mag<24')"
   ]
  },
  {
   "cell_type": "code",
   "execution_count": null,
   "metadata": {
    "collapsed": true,
    "scrolled": true
   },
   "outputs": [],
   "source": [
    "cat.count()"
   ]
  },
  {
   "cell_type": "code",
   "execution_count": null,
   "metadata": {
    "collapsed": true
   },
   "outputs": [],
   "source": [
    "%matplotlib notebook\n",
    "from matplotlib import pyplot\n",
    "\n",
    "pyplot.plot(cat.icmodel_mag, cat.gcmodel_mag - cat.icmodel_mag, '.')\n",
    "pyplot.ylim(-1,4)"
   ]
  },
  {
   "cell_type": "code",
   "execution_count": null,
   "metadata": {
    "collapsed": true
   },
   "outputs": [],
   "source": [
    "pyplot.hist(cat.icmodel_mag)"
   ]
  },
  {
   "cell_type": "code",
   "execution_count": null,
   "metadata": {
    "collapsed": true
   },
   "outputs": [],
   "source": [
    "pyplot.plot(cat.ra,cat.dec,'.')\n",
    "pyplot.xlabel('R.A. [deg]')\n",
    "pyplot.ylabel('Dec. [deg]')"
   ]
  },
  {
   "cell_type": "markdown",
   "metadata": {},
   "source": [
    "### hscMapのサンプル"
   ]
  },
  {
   "cell_type": "code",
   "execution_count": null,
   "metadata": {},
   "outputs": [],
   "source": [
    "import hscMap\n",
    "\n",
    "# hscMapウインドを生成\n",
    "w = hscMap.Window(external='True')"
   ]
  },
  {
   "cell_type": "markdown",
   "metadata": {},
   "source": [
    "* ```Window(external=True)```だと別ウインド"
   ]
  },
  {
   "cell_type": "code",
   "execution_count": null,
   "metadata": {
    "collapsed": true
   },
   "outputs": [],
   "source": [
    "cat = db.forced(where='coneSearch(coord, 150, 2, 50) AND imag_kron < 25')"
   ]
  },
  {
   "cell_type": "code",
   "execution_count": null,
   "metadata": {
    "collapsed": true
   },
   "outputs": [],
   "source": [
    "cat.count()"
   ]
  },
  {
   "cell_type": "markdown",
   "metadata": {},
   "source": [
    "* テーブルを表示\n",
    " * postage stampのfovはhscMapウインドの中でマウスをスクロールして調整\n",
    " * postage stampを大量表示するとブラウザが重くなるのでほどほどに"
   ]
  },
  {
   "cell_type": "code",
   "execution_count": null,
   "metadata": {
    "collapsed": true,
    "scrolled": true
   },
   "outputs": [],
   "source": [
    "w.catalogTable(cat, postageStamp=True)"
   ]
  },
  {
   "cell_type": "code",
   "execution_count": null,
   "metadata": {
    "collapsed": true
   },
   "outputs": [],
   "source": [
    "# カタログをオーバープロット\n",
    "marker = w.addCatalog(cat)"
   ]
  },
  {
   "cell_type": "code",
   "execution_count": null,
   "metadata": {
    "collapsed": true
   },
   "outputs": [],
   "source": [
    "# オーバープロットを消す\n",
    "marker.remove()"
   ]
  },
  {
   "cell_type": "code",
   "execution_count": null,
   "metadata": {
    "collapsed": true
   },
   "outputs": [],
   "source": [
    "# クリックコールバックの例\n",
    "# hscMapウインド上でオブジェクトをいくつかクリックしてください\n",
    "\n",
    "clicked = []\n",
    "\n",
    "def onClick(index):\n",
    "    clicked.append(index)\n",
    "    \n",
    "marker = w.addCatalog(cat, onClick=onClick)"
   ]
  },
  {
   "cell_type": "code",
   "execution_count": null,
   "metadata": {
    "collapsed": true
   },
   "outputs": [],
   "source": [
    "# クリックされたオブジェクトの番号(catの何番目か)がclickedに格納されている\n",
    "clicked"
   ]
  },
  {
   "cell_type": "code",
   "execution_count": null,
   "metadata": {
    "collapsed": true
   },
   "outputs": [],
   "source": [
    "# マーカーの色を変える\n",
    "marker.color = [1, 1, 0, 1]"
   ]
  },
  {
   "cell_type": "code",
   "execution_count": null,
   "metadata": {
    "collapsed": true
   },
   "outputs": [],
   "source": [
    "# w上のマーカーを全部消す\n",
    "w.clearMarkers()"
   ]
  },
  {
   "cell_type": "code",
   "execution_count": null,
   "metadata": {
    "collapsed": true
   },
   "outputs": [],
   "source": [
    "# 視点をちょっと移動\n",
    "w.jumpTo({\"a\":2.62,\"d\":0.038,\"fovy\":0.01})"
   ]
  },
  {
   "cell_type": "code",
   "execution_count": null,
   "metadata": {
    "collapsed": true
   },
   "outputs": [],
   "source": [
    "# クリックで選択・選択解除ができるマーカー\n",
    "# オブジェクトをクリックしていくつか選択状態にしてください\n",
    "import numpy\n",
    "import specDemo\n",
    "\n",
    "w.clearMarkers()\n",
    "\n",
    "selected = set()\n",
    "def onClick(index):\n",
    "    if index in selected:\n",
    "        selected.remove(index)\n",
    "    else:\n",
    "        selected.add(index)\n",
    "    redMarker.coords = [specDemo.coords[i] for i in selected]\n",
    "    \n",
    "greenMarker = w.addMarker(specDemo.coords, onClick)\n",
    "redMarker = w.addMarker([])\n",
    "redMarker.color = [1, 0, 0, 1]"
   ]
  },
  {
   "cell_type": "code",
   "execution_count": null,
   "metadata": {
    "collapsed": true
   },
   "outputs": [],
   "source": [
    "# 選択中のオブジェクト番号\n",
    "selected"
   ]
  },
  {
   "cell_type": "code",
   "execution_count": null,
   "metadata": {
    "scrolled": false
   },
   "outputs": [],
   "source": [
    "import numpy\n",
    "import specDemo\n",
    "import hscMap\n",
    "\n",
    "w.deep = False # Cosmos領域はudeepとdeepが重なっていてpostagestampのロードが遅いため一方を非表示に\n",
    "\n",
    "w.focusTable(['ra', 'dec'], specDemo.coords[:100],  # 最初の100個だけ表示\n",
    "             onHover=specDemo.updateSpectrumViewer,\n",
    "             postageStamp=True, size=64, fov=20)\n",
    "\n",
    "w.clearMarkers()\n",
    "w.addMarker(specDemo.coords, onClick=specDemo.updateSpectrumViewer)"
   ]
  },
  {
   "cell_type": "code",
   "execution_count": null,
   "metadata": {
    "scrolled": false
   },
   "outputs": [],
   "source": [
    "%matplotlib notebook\n",
    "import specDemo\n",
    "import numpy\n",
    "from matplotlib import pyplot\n",
    "\n",
    "# 上のテーブルの36番のデータを取得\n",
    "spec = specDemo.fetchData(36)\n",
    "\n",
    "pyplot.plot(spec.wavelength, spec.flux, linewidth=0.5)\n",
    "error = numpy.sqrt(1./spec.ivar)\n",
    "pyplot.fill_between(spec.wavelength, spec.flux - error, spec.flux + error, alpha=0.5) # エラーバー\n",
    "pyplot.xlabel('wavelength (A)')\n",
    "pyplot.ylabel('flux (10^{-17} ergs/s/cm^{2}/A)')\n",
    "pyplot.fill_between(spec.wavelength, 0, spec.sky, alpha=0.2) # skyを表示\n",
    "pyplot.ylim((spec.flux.max() * -0.2, spec.flux.max() * 1.1))\n",
    "pyplot.grid()\n",
    "\n",
    "# matplotlib notebookの機能でzoomやpanできる"
   ]
  },
  {
   "cell_type": "code",
   "execution_count": null,
   "metadata": {},
   "outputs": [],
   "source": [
    "# コントアのオーバーレイ\n",
    "\n",
    "from astropy.io import fits as afits\n",
    "import numpy\n",
    "\n",
    "w.clearContours()\n",
    "\n",
    "w.view = {'a': numpy.deg2rad(215.08), 'd': numpy.deg2rad(0.964)}\n",
    "\n",
    "with afits.open('./virgo-small.fits') as hdul:\n",
    "    contour = w.addContour(hdul[1], levels=range(10))"
   ]
  },
  {
   "cell_type": "code",
   "execution_count": null,
   "metadata": {},
   "outputs": [],
   "source": [
    "# コントアを消す\n",
    "contour.remove()"
   ]
  }
 ],
 "metadata": {
  "kernelspec": {
   "display_name": "Python 2",
   "language": "python",
   "name": "python2"
  },
  "language_info": {
   "codemirror_mode": {
    "name": "ipython",
    "version": 2
   },
   "file_extension": ".py",
   "mimetype": "text/x-python",
   "name": "python",
   "nbconvert_exporter": "python",
   "pygments_lexer": "ipython2",
   "version": "2.7.13"
  }
 },
 "nbformat": 4,
 "nbformat_minor": 2
}
