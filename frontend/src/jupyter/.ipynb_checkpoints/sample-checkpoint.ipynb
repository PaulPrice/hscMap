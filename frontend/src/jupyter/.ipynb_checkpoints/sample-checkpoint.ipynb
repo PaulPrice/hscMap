{
 "cells": [
  {
   "cell_type": "markdown",
   "metadata": {},
   "source": [
    "* 1セルずつ順番に実行してください"
   ]
  },
  {
   "cell_type": "code",
   "execution_count": null,
   "metadata": {
    "collapsed": true
   },
   "outputs": [],
   "source": [
    "import hscdata"
   ]
  },
  {
   "cell_type": "code",
   "execution_count": null,
   "metadata": {},
   "outputs": [],
   "source": [
    "db = hscdata.connect('pdr1_wide')"
   ]
  },
  {
   "cell_type": "code",
   "execution_count": null,
   "metadata": {
    "collapsed": true
   },
   "outputs": [],
   "source": [
    "cat = db.forced(where='''\n",
    "  boxSearch(coord, 217.65458519748677, 217.80503029458612, 0.11289355931771336, 0.24000127682318603)\n",
    "  AND detect_is_primary\n",
    "  AND NOT gcentroid_sdss_flags\n",
    "  AND NOT rcentroid_sdss_flags\n",
    "  AND NOT icentroid_sdss_flags\n",
    "  AND NOT zcentroid_sdss_flags\n",
    "  AND NOT ycentroid_sdss_flags\n",
    "  AND NOT gflags_pixel_edge\n",
    "  AND NOT rflags_pixel_edge\n",
    "  AND NOT iflags_pixel_edge\n",
    "  AND NOT zflags_pixel_edge\n",
    "  AND NOT yflags_pixel_edge\n",
    "  AND NOT gflags_pixel_interpolated_center\n",
    "  AND NOT rflags_pixel_interpolated_center\n",
    "  AND NOT iflags_pixel_interpolated_center\n",
    "  AND NOT zflags_pixel_interpolated_center\n",
    "  AND NOT yflags_pixel_interpolated_center\n",
    "  AND NOT gflags_pixel_saturated_center\n",
    "  AND NOT rflags_pixel_saturated_center\n",
    "  AND NOT iflags_pixel_saturated_center\n",
    "  AND NOT zflags_pixel_saturated_center\n",
    "  AND NOT yflags_pixel_saturated_center\n",
    "  AND NOT gflags_pixel_cr_center\n",
    "  AND NOT rflags_pixel_cr_center\n",
    "  AND NOT iflags_pixel_cr_center\n",
    "  AND NOT zflags_pixel_cr_center\n",
    "  AND NOT yflags_pixel_cr_center\n",
    "  AND NOT gflags_pixel_bad\n",
    "  AND NOT rflags_pixel_bad\n",
    "  AND NOT iflags_pixel_bad\n",
    "  AND NOT zflags_pixel_bad\n",
    "  AND NOT yflags_pixel_bad\n",
    "  AND NOT gcmodel_flux_flags\n",
    "  AND NOT rcmodel_flux_flags\n",
    "  AND NOT icmodel_flux_flags\n",
    "  AND NOT zcmodel_flux_flags\n",
    "  AND NOT ycmodel_flux_flags\n",
    "  AND (\n",
    "    -- \"in at least one band the detection is not junk\"\n",
    "      (merge_peak_g AND gdetected_notjunk)\n",
    "   OR (merge_peak_r AND rdetected_notjunk)\n",
    "   OR (merge_peak_i AND idetected_notjunk)\n",
    " )\n",
    "''')"
   ]
  },
  {
   "cell_type": "code",
   "execution_count": null,
   "metadata": {
    "collapsed": true
   },
   "outputs": [],
   "source": [
    "cat2 = db.forced(where='''\n",
    "  boxSearch(coord, 217.65458519748677, 217.80503029458612, 0.11289355931771336, 0.24000127682318603)\n",
    "  AND detect_is_primary\n",
    "''')"
   ]
  },
  {
   "cell_type": "code",
   "execution_count": null,
   "metadata": {},
   "outputs": [],
   "source": [
    "cat2.count()"
   ]
  },
  {
   "cell_type": "code",
   "execution_count": null,
   "metadata": {
    "collapsed": true
   },
   "outputs": [],
   "source": [
    "%matplotlib notebook\n",
    "from matplotlib import pyplot"
   ]
  },
  {
   "cell_type": "code",
   "execution_count": null,
   "metadata": {},
   "outputs": [],
   "source": [
    "import numpy\n",
    "\n",
    "def safe(c, name):\n",
    "    return c[name][numpy.isfinite(c[name])]\n",
    "\n",
    "\n",
    "pyplot.hist((\n",
    "    safe(cat2, 'gmag_kron'),\n",
    "    # safe(cat2, 'rmag_kron'),\n",
    "    # safe(cat2, 'imag_kron'),\n",
    "    ), bins=40)\n",
    "pyplot.grid()"
   ]
  },
  {
   "cell_type": "code",
   "execution_count": null,
   "metadata": {},
   "outputs": [],
   "source": [
    "pyplot.hist((\n",
    "    # safe(cat2, 'gmag_kron'),\n",
    "    safe(cat2, 'rmag_kron'),\n",
    "    # safe(cat2, 'imag_kron'),\n",
    "    ), bins=40)\n",
    "pyplot.grid()"
   ]
  },
  {
   "cell_type": "code",
   "execution_count": null,
   "metadata": {},
   "outputs": [],
   "source": [
    "pyplot.hist((\n",
    "    # safe(cat2, 'gmag_kron'),\n",
    "    # safe(cat2, 'rmag_kron'),\n",
    "    safe(cat2, 'imag_kron'),\n",
    "    ), bins=40)\n",
    "pyplot.grid()"
   ]
  },
  {
   "cell_type": "markdown",
   "metadata": {},
   "source": [
    "### hscMapのサンプル"
   ]
  },
  {
   "cell_type": "code",
   "execution_count": null,
   "metadata": {
    "collapsed": true
   },
   "outputs": [],
   "source": [
    "where = '''\n",
    "  boxSearch(coord, 217.54707279833949, 217.79047134945355, 0.10841348845214947, 0.4548440915837775)\n",
    "  and\n",
    "  detect_is_primary\n",
    "  '''\n",
    "\n",
    "cat3 = db.forced(where=where)"
   ]
  },
  {
   "cell_type": "code",
   "execution_count": null,
   "metadata": {},
   "outputs": [],
   "source": [
    "cat3.count()"
   ]
  },
  {
   "cell_type": "code",
   "execution_count": null,
   "metadata": {
    "collapsed": true,
    "scrolled": true
   },
   "outputs": [],
   "source": [
    "ex = cat3.yclassification_extendedness\n",
    "ex = ex[numpy.isfinite(ex)]\n",
    "\n",
    "gal = ex > 0.5\n",
    "star = ex <= 0.5"
   ]
  },
  {
   "cell_type": "code",
   "execution_count": null,
   "metadata": {},
   "outputs": [],
   "source": [
    "gal.sum()"
   ]
  },
  {
   "cell_type": "code",
   "execution_count": null,
   "metadata": {},
   "outputs": [],
   "source": [
    "import hscMap\n",
    "\n",
    "# hscMapウインドを生成\n",
    "w = hscMap.Window()"
   ]
  },
  {
   "cell_type": "markdown",
   "metadata": {},
   "source": [
    "* テーブルを表示\n",
    " * postage stampのfovはhscMapウインドの中でマウスをスクロールして調整\n",
    " * postage stampを大量表示するとブラウザが重くなるのでほどほどに"
   ]
  },
  {
   "cell_type": "code",
   "execution_count": null,
   "metadata": {
    "collapsed": true
   },
   "outputs": [],
   "source": [
    "w.filters = ['HSC-I', 'HSC-I', 'HSC-I']"
   ]
  },
  {
   "cell_type": "code",
   "execution_count": null,
   "metadata": {},
   "outputs": [],
   "source": [
    "# カタログをオーバープロット\n",
    "def radec(c, *select):\n",
    "    select = reduce(lambda a,b: numpy.logical_and(a, b), select)\n",
    "    return numpy.array([c.ra[select], c.dec[select]]).T\n",
    "\n",
    "c = cat2\n",
    "\n",
    "w.clearMarkers()\n",
    "colors = [[1, 0, 0, 0.5],\n",
    "          [1, 1, 0, 0.5],\n",
    "          [0, 1, 0, 0.5],\n",
    "          [0, 1, 1, 0.5],\n",
    "          [0, 0, 1, 0.5],\n",
    "          [1, 0, 1, 0.5]]\n",
    "\n",
    "w.clearMarkers()\n",
    "bright = 24\n",
    "for i in range(5):\n",
    "    w.addMarker(radec(c, bright + i <= c.imag_kron, c.imag_kron < bright + 1 + i).tolist()).color = colors[i]\n",
    "w.addMarker(radec(c, 29 <= c.imag_kron).tolist()).color = colors[5]"
   ]
  },
  {
   "cell_type": "code",
   "execution_count": null,
   "metadata": {},
   "outputs": [],
   "source": [
    "# オーバープロットを消す\n",
    "w.clearMarkers()"
   ]
  },
  {
   "cell_type": "code",
   "execution_count": null,
   "metadata": {
    "collapsed": true
   },
   "outputs": [],
   "source": [
    "# クリックコールバックの例\n",
    "# hscMapウインド上でオブジェクトをいくつかクリックしてください\n",
    "\n",
    "clicked = []\n",
    "\n",
    "def onClick(index):\n",
    "    clicked.append(index)\n",
    "    \n",
    "marker = w.addCatalog(cat, onClick=onClick)"
   ]
  },
  {
   "cell_type": "code",
   "execution_count": null,
   "metadata": {
    "collapsed": true
   },
   "outputs": [],
   "source": [
    "# クリックされたオブジェクトの番号(catの何番目か)がclickedに格納されている\n",
    "clicked"
   ]
  },
  {
   "cell_type": "code",
   "execution_count": null,
   "metadata": {
    "collapsed": true
   },
   "outputs": [],
   "source": [
    "# マーカーの色を変える\n",
    "marker.color = [1, 1, 0, 1]"
   ]
  },
  {
   "cell_type": "code",
   "execution_count": null,
   "metadata": {
    "collapsed": true
   },
   "outputs": [],
   "source": [
    "# w上のマーカーを全部消す\n",
    "w.clearMarkers()"
   ]
  },
  {
   "cell_type": "code",
   "execution_count": null,
   "metadata": {
    "collapsed": true
   },
   "outputs": [],
   "source": [
    "# 視点をちょっと移動\n",
    "w.jumpTo({\"a\":2.62,\"d\":0.038,\"fovy\":0.01})"
   ]
  },
  {
   "cell_type": "code",
   "execution_count": null,
   "metadata": {
    "collapsed": true
   },
   "outputs": [],
   "source": [
    "# クリックで選択・選択解除ができるマーカー\n",
    "# オブジェクトをクリックしていくつか選択状態にしてください\n",
    "import numpy\n",
    "import specDemo\n",
    "\n",
    "w.clearMarkers()\n",
    "\n",
    "selected = set()\n",
    "def onClick(index):\n",
    "    if index in selected:\n",
    "        selected.remove(index)\n",
    "    else:\n",
    "        selected.add(index)\n",
    "    redMarker.coords = [specDemo.coords[i] for i in selected]\n",
    "    \n",
    "greenMarker = w.addMarker(specDemo.coords, onClick)\n",
    "redMarker = w.addMarker([])\n",
    "redMarker.color = [1, 0, 0, 1]"
   ]
  },
  {
   "cell_type": "code",
   "execution_count": null,
   "metadata": {
    "collapsed": true
   },
   "outputs": [],
   "source": [
    "# 選択中のオブジェクト番号\n",
    "selected"
   ]
  },
  {
   "cell_type": "code",
   "execution_count": null,
   "metadata": {
    "collapsed": true,
    "scrolled": false
   },
   "outputs": [],
   "source": [
    "import numpy\n",
    "import specDemo\n",
    "import hscMap\n",
    "\n",
    "w.deep = False # cosmos領域はudeepと重なっているためdeepを非表示に\n",
    "\n",
    "w.focusTable(['ra', 'dec'], specDemo.coords[:100], # 最初100個のテーブルを表示\n",
    "             onHover=specDemo.updateSpectrumViewer,\n",
    "             postageStamp=True, size=64, fov=20)\n",
    "\n",
    "w.clearMarkers()\n",
    "w.addMarker(specDemo.coords, onClick=specDemo.updateSpectrumViewer)"
   ]
  },
  {
   "cell_type": "code",
   "execution_count": null,
   "metadata": {
    "collapsed": true
   },
   "outputs": [],
   "source": [
    "%matplotlib notebook\n",
    "import specDemo\n",
    "import numpy\n",
    "from matplotlib import pyplot\n",
    "\n",
    "# 上のテーブルの36番のデータを取得\n",
    "spec = specDemo.fetchData(36)\n",
    "\n",
    "pyplot.plot(spec.wavelength, spec.flux, linewidth=0.5)\n",
    "error = numpy.sqrt(1./spec.ivar)\n",
    "pyplot.fill_between(spec.wavelength, spec.flux - error, spec.flux + error, alpha=0.5) # エラーバー\n",
    "pyplot.xlabel('wavelength (A)')\n",
    "pyplot.ylabel('flux (10^{-17} ergs/s/cm^{2}/A)')\n",
    "pyplot.fill_between(spec.wavelength, 0, spec.sky, alpha=0.2) # skyを表示\n",
    "pyplot.ylim((spec.flux.max() * -0.2, spec.flux.max() * 1.1))\n",
    "pyplot.grid()\n",
    "\n",
    "# matplotlib notebookの機能でzoomやpanできる}"
   ]
  },
  {
   "cell_type": "code",
   "execution_count": null,
   "metadata": {
    "collapsed": true
   },
   "outputs": [],
   "source": [
    "# コントアのオーバーレイ\n",
    "\n",
    "from astropy.io import fits as afits\n",
    "import numpy\n",
    "\n",
    "w.clearContours()\n",
    "\n",
    "w.view = {'a': numpy.deg2rad(215.08), 'd': numpy.deg2rad(0.964)}\n",
    "\n",
    "with afits.open('./virgo-small.fits') as hdul:\n",
    "    contour = w.addContour(hdul[1], levels=range(10))"
   ]
  },
  {
   "cell_type": "code",
   "execution_count": null,
   "metadata": {
    "collapsed": true
   },
   "outputs": [],
   "source": [
    "# コントアを消す\n",
    "contour.remove()"
   ]
  },
  {
   "cell_type": "code",
   "execution_count": null,
   "metadata": {
    "collapsed": true
   },
   "outputs": [],
   "source": [
    "w.view"
   ]
  },
  {
   "cell_type": "code",
   "execution_count": null,
   "metadata": {
    "collapsed": true
   },
   "outputs": [],
   "source": [
    "import numpy\n",
    "\n",
    "a, d = numpy.deg2rad([32.8080, -3.7302])\n",
    "\n",
    "w.view = {'a': a, 'd': d}\n",
    "\n",
    "w.filters = ['HSC-Z', 'HSC-R', 'HSC-G']"
   ]
  },
  {
   "cell_type": "code",
   "execution_count": null,
   "metadata": {
    "collapsed": true
   },
   "outputs": [],
   "source": [
    "w.queryImage('a.png', w.view)"
   ]
  },
  {
   "cell_type": "code",
   "execution_count": null,
   "metadata": {
    "collapsed": true
   },
   "outputs": [],
   "source": []
  }
 ],
 "metadata": {
  "kernelspec": {
   "display_name": "Python 2",
   "language": "python",
   "name": "python2"
  },
  "language_info": {
   "codemirror_mode": {
    "name": "ipython",
    "version": 2
   },
   "file_extension": ".py",
   "mimetype": "text/x-python",
   "name": "python",
   "nbconvert_exporter": "python",
   "pygments_lexer": "ipython2",
   "version": "2.7.13"
  }
 },
 "nbformat": 4,
 "nbformat_minor": 2
}
